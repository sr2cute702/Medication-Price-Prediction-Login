{
 "cells": [
  {
   "cell_type": "code",
   "execution_count": 5,
   "id": "fcbd0d86",
   "metadata": {},
   "outputs": [],
   "source": [
    "import webbrowser\n",
    "import voila\n",
    "import ipywidgets as widgets\n",
    "from IPython.display import display"
   ]
  },
  {
   "cell_type": "code",
   "execution_count": 13,
   "id": "bbb4eada",
   "metadata": {},
   "outputs": [
    {
     "data": {
      "application/vnd.jupyter.widget-view+json": {
       "model_id": "2a37dc961fc94f21928037c39aba6c55",
       "version_major": 2,
       "version_minor": 0
      },
      "text/plain": [
       "Label(value='Please fill in the username and password fields.')"
      ]
     },
     "metadata": {},
     "output_type": "display_data"
    },
    {
     "data": {
      "application/vnd.jupyter.widget-view+json": {
       "model_id": "364ab30629d84985a493d9dedc14fe6f",
       "version_major": 2,
       "version_minor": 0
      },
      "text/plain": [
       "Text(value='', description='Username:')"
      ]
     },
     "metadata": {},
     "output_type": "display_data"
    },
    {
     "data": {
      "application/vnd.jupyter.widget-view+json": {
       "model_id": "aae05ad24965476ba2a6be4d143668c1",
       "version_major": 2,
       "version_minor": 0
      },
      "text/plain": [
       "Text(value='', description='Password:')"
      ]
     },
     "metadata": {},
     "output_type": "display_data"
    },
    {
     "data": {
      "application/vnd.jupyter.widget-view+json": {
       "model_id": "e77b0da3819040f1a3d47f2213d9b198",
       "version_major": 2,
       "version_minor": 0
      },
      "text/plain": [
       "Button(description='Login', style=ButtonStyle())"
      ]
     },
     "metadata": {},
     "output_type": "display_data"
    },
    {
     "data": {
      "application/vnd.jupyter.widget-view+json": {
       "model_id": "450fac675bc74224b4b9b5e67712f920",
       "version_major": 2,
       "version_minor": 0
      },
      "text/plain": [
       "Output()"
      ]
     },
     "metadata": {},
     "output_type": "display_data"
    }
   ],
   "source": [
    "style = {'description_width': 'initial'}\n",
    "\n",
    "instructions = widgets.Label(\n",
    "    value='Please fill in the username and password fields.'\n",
    ")\n",
    "username = widgets.Text(\n",
    "    value='',\n",
    "    description='Username:',\n",
    "    disabled=False\n",
    ")\n",
    "password = widgets.Text(\n",
    "    value='',\n",
    "    description='Password:',\n",
    "    disabled=False\n",
    ")\n",
    "button = widgets.Button(description='Login', style=style)\n",
    "output = widgets.Output()\n",
    "link = widgets.HTML(\n",
    "        value=\"<a href='https://mybinder.org/v2/gh/sr2cute702/C964sr/HEAD?urlpath=%2Fvoila%2Frender%2Fc964sr.ipynb' target='_blank'>Medication-Price-Prediction-Tool</a>\",\n",
    "        )\n",
    "\n",
    "def on_button_clicked(b):\n",
    "    if username.value == 'admin' and password.value == 'admin':\n",
    "        with output:\n",
    "            print(\"Login successful. Follow link for predictor tool.\")\n",
    "            display(link)\n",
    "    else:\n",
    "        with output:\n",
    "            print(\"Invalid login info. Please try again.\")\n",
    "\n",
    "button.on_click(on_button_clicked)\n",
    "\n",
    "display(instructions,\n",
    "        username,\n",
    "        password,\n",
    "        button,\n",
    "        output)"
   ]
  },
  {
   "cell_type": "code",
   "execution_count": null,
   "id": "38d769ca",
   "metadata": {},
   "outputs": [],
   "source": []
  }
 ],
 "metadata": {
  "kernelspec": {
   "display_name": "Python 3 (ipykernel)",
   "language": "python",
   "name": "python3"
  },
  "language_info": {
   "codemirror_mode": {
    "name": "ipython",
    "version": 3
   },
   "file_extension": ".py",
   "mimetype": "text/x-python",
   "name": "python",
   "nbconvert_exporter": "python",
   "pygments_lexer": "ipython3",
   "version": "3.9.7"
  }
 },
 "nbformat": 4,
 "nbformat_minor": 5
}
